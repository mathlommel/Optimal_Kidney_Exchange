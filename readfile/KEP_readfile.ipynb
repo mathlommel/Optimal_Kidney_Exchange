{
 "cells": [
  {
   "cell_type": "code",
   "execution_count": 4,
   "metadata": {},
   "outputs": [
    {
     "data": {
      "text/plain": [
       "read_wmd_file"
      ]
     },
     "metadata": {},
     "output_type": "display_data"
    }
   ],
   "source": [
    "\"\"\"\n",
    "    read_kep_file\n",
    "\n",
    "Contruct G from a `.wmd` file from PrefLib.\n",
    "\n",
    "# Parameters\n",
    "* `wmd_file::String` : path of the `.wmd` file.\n",
    "\"\"\"\n",
    "function read_wmd_file(wmd_file::String)\n",
    "    isfile(wmd_file) || throw(ArgumentError(\"$(wmd_file): file not found.\"))\n",
    "\n",
    "    # Extract the graph structure from the .wmd file using a MetaGraph\n",
    "    wmd_io = open(wmd_file, \"r\");\n",
    "\n",
    "    # skip the first nine informative lines\n",
    "    for i in 1:9\n",
    "        readline(wmd_io);\n",
    "    end\n",
    "\n",
    "    # get the number of vertices and edges from the following lines\n",
    "    splitted_line = split(readline(wmd_io), ' ');\n",
    "    nb_vertices = parse(Int, splitted_line[4]);\n",
    "    splitted_line = split(readline(wmd_io), ' ');\n",
    "    nb_edges = parse(Int, splitted_line[4]);\n",
    "    G = SimpleDiGraph(nb_vertices, 0);\n",
    "    edge_weight = zeros(nb_vertices, nb_vertices)\n",
    "\n",
    "\n",
    "    # skip next nb_vertices lines, which are only informative\n",
    "    for i in 1:nb_vertices\n",
    "        readline(wmd_io);\n",
    "    end\n",
    "    \n",
    "    # read the set of edges\n",
    "    while !eof(wmd_io)\n",
    "        splitted_line = split(readline(wmd_io), ',');\n",
    "        # /!\\ Pairs are numbered from 0 in the second part of the file\n",
    "        source = parse(Int, splitted_line[1]);\n",
    "        destination = parse(Int, splitted_line[2]);\n",
    "        weight = parse(Float64, splitted_line[3]);\n",
    "\n",
    "        # do not add an edge that has a zero weight\n",
    "        if weight > 0\n",
    "            add_edge!(G, source, destination);\n",
    "            edge_weight[source,destination] = weight;\n",
    "        end\n",
    "    end\n",
    "    \n",
    "    return G, edge_weight;\n",
    "end"
   ]
  },
  {
   "cell_type": "code",
   "execution_count": null,
   "metadata": {},
   "outputs": [],
   "source": [
    "println(\"Fonction de lecture des fichiers .wmd importée avec succès.\")"
   ]
  }
 ],
 "metadata": {
  "@webio": {
   "lastCommId": null,
   "lastKernelId": null
  },
  "kernelspec": {
   "display_name": "Julia 1.9.4",
   "language": "julia",
   "name": "julia-1.9"
  },
  "language_info": {
   "file_extension": ".jl",
   "mimetype": "application/julia",
   "name": "julia",
   "version": "1.9.4"
  }
 },
 "nbformat": 4,
 "nbformat_minor": 2
}
