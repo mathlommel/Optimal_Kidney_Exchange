{
 "cells": [
  {
   "cell_type": "markdown",
   "id": "d51f5c11",
   "metadata": {},
   "source": [
    "# Restriction de (LP) - Modèle $(RLP)$\n",
    "\n",
    "Dans ce notebook, nous définissons le modèle $(RLP)$, accompagné de sa fonction de résolution."
   ]
  },
  {
   "cell_type": "code",
   "execution_count": null,
   "id": "8e08b1bf",
   "metadata": {},
   "outputs": [],
   "source": [
    "function model_RLP(n,C_hat,W_hat,C_hat_v)\n",
    "    \"\"\"\n",
    "    Crée la restriction du modèle (LP) aux cycles de C_hat.\n",
    "\n",
    "    Entrées : \n",
    "        - n       : Integer - Nombre de sommets dans le graphe\n",
    "        - C_hat   : Array   - Sous-espace de cycles de taille <= K\n",
    "        - W_hat   : Array   - Matrice des poids de chaque cycle\n",
    "        - C_hat_v : Array   - Matrice répertoriant les cycles passant par chaque sommet \n",
    "\n",
    "    Sortie :\n",
    "        - model : JuMP model - Modèle du problème relaxé\n",
    "    \"\"\"\n",
    "    # Vecteur des sommets\n",
    "    V=Array(1:n)\n",
    "    \n",
    "    # Création du modèle\n",
    "    model = Model(HiGHS.Optimizer); \n",
    "    set_optimizer_attribute(model,\"output_flag\",false)\n",
    "    \n",
    "    # Variables\n",
    "    ## Pour tout cycle c de C_K, x[c] = 1 si le cycle c est utilisé dans la solution, 0 sinon\n",
    "    @variable(model, x[1:length(C_hat)]>=0);\n",
    "    \n",
    "    # Fonction objectif: On souhaite maximiser la somme des coûts des transplantations\n",
    "    @objective(model, Max, sum(x[c]*W_hat[c] for c in range(1,length(C_hat)) ));\n",
    "    \n",
    "    # Contraintes\n",
    "    ## Pour chaque sommet v, on a, au plus, un cycle choisi passant par v\n",
    "    @constraint(model,ct_unique[v in V],sum(x[c] for c in C_hat_v[v])<=1)\n",
    "\n",
    "    return model;\n",
    "end"
   ]
  },
  {
   "cell_type": "code",
   "execution_count": 2,
   "id": "88b13df7",
   "metadata": {},
   "outputs": [
    {
     "data": {
      "text/plain": [
       "solve_P (generic function with 1 method)"
      ]
     },
     "execution_count": 2,
     "metadata": {},
     "output_type": "execute_result"
    }
   ],
   "source": [
    "function solve_P(model,relax,logs)\n",
    "    \"\"\"\n",
    "    Résout le problème global (relax=0) ou sa relaxation linéaire (relax=1)\n",
    "\n",
    "    Entrées : \n",
    "        - model : JuMP Model - Modèle à résoudre\n",
    "        - relax : Integer    - Indique quel problème résoudre    \n",
    "        - logs  : String     - Logs auxquels ajouter la résolution du problème\n",
    "    \"\"\"\n",
    "    # Nous pouvons résoudre la relaxation ou le modèle avec contrainte d'intégrité.\n",
    "    if relax == 0\n",
    "        # Si l'on souhaite résoudre le problème avec contrainte d'intégrité\n",
    "        set_integer.(model[:x])\n",
    "    end \n",
    "    \n",
    "    # Ajout de la résolution aux logs \n",
    "    logs *= \"* Résolution de (RLP) *\\n\"\n",
    "    timer = @timed optimize!(model);\n",
    "\n",
    "    # Ajout de la résolution dans les logs\n",
    "    logs *= \"| Statut de la solution = \"*string(termination_status(model))*\"\\n\"\n",
    "    logs *= \"| Valeur optimale = \"*string(objective_value(model))*\"\\n\"\n",
    "    \n",
    "    return logs\n",
    "end"
   ]
  },
  {
   "cell_type": "code",
   "execution_count": null,
   "id": "d3dbed8f-7172-4438-811c-01557b44ff2a",
   "metadata": {},
   "outputs": [],
   "source": [
    "println(\"Modèle (RLP) importé avec succès.\")"
   ]
  }
 ],
 "metadata": {
  "kernelspec": {
   "display_name": "Julia 1.9.0",
   "language": "julia",
   "name": "julia-1.9"
  },
  "language_info": {
   "file_extension": ".jl",
   "mimetype": "application/julia",
   "name": "julia",
   "version": "1.9.0"
  }
 },
 "nbformat": 4,
 "nbformat_minor": 5
}
