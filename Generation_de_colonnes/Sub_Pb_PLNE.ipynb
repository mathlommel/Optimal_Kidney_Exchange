{
 "cells": [
  {
   "cell_type": "markdown",
   "id": "37a6bd4e",
   "metadata": {},
   "source": [
    "# Sous problème - Par modélisation PLNE\n",
    "\n",
    "Dans ce notebook, nous définissons la première méthode de résolution du sous problème de la génération de colonnes."
   ]
  },
  {
   "cell_type": "markdown",
   "id": "c52486f0-cad2-4c05-989d-4b86619f8a3b",
   "metadata": {},
   "source": [
    "## Création du modèle"
   ]
  },
  {
   "cell_type": "code",
   "execution_count": null,
   "id": "d8049f1b",
   "metadata": {},
   "outputs": [],
   "source": [
    "function sub_pb_PLNE(A,W,p,n,K,preds,succ)\n",
    "    \"\"\"\n",
    "    Crée et résout le sous-problème de la génération de colonnes.\n",
    "\n",
    "    Entrées :\n",
    "        - A     : Array   -  Matrice des arcs du graphe\n",
    "        - W     : Array   -  Matrice des poids de chaque arc\n",
    "        - p     : Array   -  Solution optimale du dual de la relaxation\n",
    "        - n     : Integer -  Nombre de sommets dans le graphe\n",
    "        - K     : Integer -  Taille maximale des cycles\n",
    "        - preds : Array   - Liste des prédecesseurs de chaque sommet\n",
    "        - succ  : Array   - Liste des successeurs de chaque sommet\n",
    "    \n",
    "    Sorties : \n",
    "        - model : JuMP Model - Modèle résolu\n",
    "    \"\"\"\n",
    "    # Vecteur des sommets\n",
    "    V = Array(1:n)\n",
    "        \n",
    "    # JuMP model\n",
    "    model = Model(Cbc.Optimizer); \n",
    "    set_optimizer_attribute(model, \"logLevel\", 0)\n",
    "    \n",
    "    # Variables\n",
    "    ## Pour tout arc \"a\" de A, y[a] = 1 si l'arc fait partie du cycle e coût maximal\n",
    "    @variable(model, y[A], Bin);\n",
    "\n",
    "    # Fonction objectif: maximiser le coût du cycle choisi\n",
    "    @objective(model, Max, sum(y[(i,j)]*(W[i,j]-p[j]) for (i,j) in A));\n",
    "    \n",
    "    # Contraintes\n",
    "    ## Un couple peut donner, au plus, à un seul autre couple\n",
    "    @constraint(model,ct_flot[i in V],sum(y[(i,j)] for j in succ[i])<=1)\n",
    "    ## Si un couple donne, alors il doit aussi recevoir\n",
    "    @constraint(model,ct_flot2[i in V],sum(y[(i,j)] for j in succ[i])==sum(y[(j,i)] for j in preds[i]))\n",
    "    ## Le cycle choisi doit être de taille <= K\n",
    "    @constraint(model,ct_length,sum(y[(i,j)] for (i,j) in A)<=K)\n",
    "    \n",
    "    timer = @timed optimize!(model);  \n",
    "\n",
    "    return model;\n",
    "end"
   ]
  },
  {
   "cell_type": "markdown",
   "id": "c4673a12-39f4-4657-905b-621332924288",
   "metadata": {},
   "source": [
    "## Fonction construisant les cycles solution"
   ]
  },
  {
   "cell_type": "code",
   "execution_count": null,
   "id": "54b52c47",
   "metadata": {},
   "outputs": [],
   "source": [
    "function compute_solution_PLNE(model,W,p,eps)\n",
    "    \"\"\"\n",
    "    Crée les cycles solutions rendu par la modélisation en PLNE.\n",
    "    \n",
    "    Entrées : \n",
    "        - model      : JuMP Model - Modèle résolu du problème\n",
    "        - W          : Array      - Matrice des poids des arcs\n",
    "        - p          : Array      - Vecteur des variables duales optimales\n",
    "        - eps        : Float      - Marge d'erreur prise en compte dans la comparaison à 0\n",
    "    \n",
    "    Sorties : \n",
    "        - cycle : Array - Cycle de coût positif\n",
    "    \"\"\"\n",
    "    # Récupération des valeurs optimales des variables \n",
    "    X = value.(model[:y])\n",
    "\n",
    "    # Récupération des arcs solution\n",
    "    arcs = []\n",
    "    for (i,j) in axes(X)[1]\n",
    "        if X[(i,j)] == 1\n",
    "            push!(arcs,(i,j))\n",
    "        end\n",
    "    end\n",
    "    \n",
    "    if length(arcs) > 0\n",
    "        # Initialisation du cycle solution\n",
    "        cycle = [] \n",
    "        next = arcs[1]\n",
    "        # Initialisation de son coût\n",
    "        cout_cycle = 0\n",
    "\n",
    "        # Tant qu'il reste des arcs à traiter\n",
    "        while true\n",
    "            # On ajoute l'arc au cycle courant\n",
    "            push!(cycle,next)\n",
    "            cout_cycle += W[next[1],next[2]] - p[next[2]]\n",
    "\n",
    "            # Et on le supprime de la liste des arcs à traiter\n",
    "            arcs = filter(t -> t != next,arcs)\n",
    "\n",
    "            # On met à jour l'arc suivant\n",
    "            next = filter(t -> next[2] in t, arcs)\n",
    "            if length(next) > 0\n",
    "                # Cas où le cycle courant n'est pas terminé\n",
    "                next = next[1]\n",
    "            else\n",
    "                # Cas où le cycle courant est terminé\n",
    "                # Si le cycle est de coût positif, alors on le renvoie\n",
    "                if cout_cycle > eps\n",
    "                    return cycle\n",
    "                else\n",
    "                    # Si le cycle est de coût négatif, cela signifie que les autres cycles le sont aussi\n",
    "                    # --> On ne renvoie rien\n",
    "                    return nothing\n",
    "                end\n",
    "                \n",
    "            end\n",
    "        end       \n",
    "    else\n",
    "        # Si aucun cycle n'est trouvé, on ne renvoie rien\n",
    "       return nothing     \n",
    "    end\n",
    "end"
   ]
  },
  {
   "cell_type": "code",
   "execution_count": 1,
   "id": "e23259d0-6483-4f8f-891b-40abcbcbb38b",
   "metadata": {},
   "outputs": [
    {
     "name": "stdout",
     "output_type": "stream",
     "text": [
      "Résolution par PLNE importée avec succès.\n"
     ]
    }
   ],
   "source": [
    "println(\"Résolution par PLNE importée avec succès.\")"
   ]
  }
 ],
 "metadata": {
  "kernelspec": {
   "display_name": "Julia 1.9.0",
   "language": "julia",
   "name": "julia-1.9"
  },
  "language_info": {
   "file_extension": ".jl",
   "mimetype": "application/julia",
   "name": "julia",
   "version": "1.9.0"
  }
 },
 "nbformat": 4,
 "nbformat_minor": 5
}
