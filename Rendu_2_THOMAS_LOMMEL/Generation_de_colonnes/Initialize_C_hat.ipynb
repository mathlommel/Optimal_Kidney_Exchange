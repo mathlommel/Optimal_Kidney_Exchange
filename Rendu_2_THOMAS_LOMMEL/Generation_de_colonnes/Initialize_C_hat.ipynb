{
 "cells": [
  {
   "cell_type": "markdown",
   "id": "588a267c",
   "metadata": {},
   "source": [
    "# Initialisation de $\\widehat{C}$\n",
    "\n",
    "Dans ce notebook, nous détaillons les 2 méthodes proposées pour l'initialisation de $\\widehat{C}$."
   ]
  },
  {
   "cell_type": "markdown",
   "id": "6de245b5",
   "metadata": {},
   "source": [
    "## Solutions du problème avec K=2"
   ]
  },
  {
   "cell_type": "code",
   "execution_count": null,
   "id": "412b3767",
   "metadata": {},
   "outputs": [],
   "source": [
    "function initialize_2(n,A,W)\n",
    "    \"\"\"\n",
    "    Initialise le sous ensemble C_hat avec les solutions du problème avec K=2\n",
    "    \n",
    "    Entrées : \n",
    "        - n     : Integer - Nombre de sommets dans le graphe\n",
    "        - A     : Array   - Liste des arcs du graphe\n",
    "        - W     : Array   - Matrice des poids de chaque arc\n",
    "    \n",
    "    Sorties : \n",
    "        - C_hat   : Array - Liste des cycles du sous ensemble C_hat\n",
    "        - W_hat   : Array - Liste des coûts des cycles de C_hat\n",
    "        - C_hat_v : Array - Liste des cycles passant par chaque sommet v de V\n",
    "    \"\"\"\n",
    "    # Sous ensemble de cycles\n",
    "    C_hat = []\n",
    "    # Coût de ces cycles\n",
    "    W_hat = []\n",
    "    # Cycles passant par un sommet v\n",
    "    C_hat_v = [[] for i in range(1,n)]\n",
    "\n",
    "    # On résout le problème avec des cycles de taille 2\n",
    "    m2_cost, m2 = compact_cycle_2([n,A,W],false)\n",
    "\n",
    "    X = value.(m2[:x])\n",
    "    c = 1\n",
    "    # On remplit C_hat, W_hat et C_hat_v avec les solutions rendues\n",
    "    for (i,j) in axes(X)[1]\n",
    "        if (X[(i,j)] == 1) && !([(j,i),(i,j)] in C_hat)\n",
    "            push!(C_hat,[(i,j),(j,i)])\n",
    "            push!(W_hat,W[i,j]+W[j,i])\n",
    "            push!(C_hat_v[i],c)\n",
    "            push!(C_hat_v[j],c)\n",
    "            c+=1\n",
    "        end\n",
    "    end\n",
    "    return C_hat, W_hat, C_hat_v\n",
    "end"
   ]
  },
  {
   "cell_type": "markdown",
   "id": "455f5c73",
   "metadata": {},
   "source": [
    "## Tous les cycles de taille 2"
   ]
  },
  {
   "cell_type": "code",
   "execution_count": null,
   "id": "664408c2",
   "metadata": {},
   "outputs": [],
   "source": [
    "function initialize_all2(n,A,W)\n",
    "    \"\"\"\n",
    "    Initialise le sous ensemble C_hat avec tous les cycles de taille 2 possibles \n",
    "    \n",
    "    Entrées : \n",
    "        - n     : Integer - Nombre de sommets dans le graphe\n",
    "        - A     : Array   - Liste des arcs du graphe\n",
    "        - W     : Array   - Matrice des poids de chaque arc\n",
    "    \n",
    "    Sorties : \n",
    "        - C_hat   : Array - Liste des cycles du sous ensemble C_hat\n",
    "        - W_hat   : Array - Liste des coûts des cycles de C_hat\n",
    "        - C_hat_v : Array - Liste des cycles passant par chaque sommet v de V\n",
    "    \"\"\"\n",
    "    \n",
    "    # Sous ensemble de cycles\n",
    "    C_hat = []\n",
    "    # Coût de ces cycles\n",
    "    W_hat = []\n",
    "    # Cycles passant par un sommet v\n",
    "    C_hat_v =[[] for i in range(1,n)]\n",
    "    \n",
    "    c = 1\n",
    "    # On Ajoute tous les cycles possibles de taille 2\n",
    "    for (i,j) in A\n",
    "        if (j,i) in A && !([(j,i),(i,j)] in C_hat)\n",
    "            push!(C_hat,[(i,j),(j,i)])\n",
    "            push!(W_hat, W[i,j]+W[j,i])\n",
    "            push!(C_hat_v[i],c)\n",
    "            push!(C_hat_v[j],c)\n",
    "            c+=1\n",
    "        end\n",
    "    end\n",
    "    return C_hat, W_hat, C_hat_v\n",
    "end"
   ]
  },
  {
   "cell_type": "markdown",
   "id": "045ace84",
   "metadata": {},
   "source": [
    "## Fonction d'initialisation"
   ]
  },
  {
   "cell_type": "code",
   "execution_count": null,
   "id": "b2e9c6ac",
   "metadata": {},
   "outputs": [],
   "source": [
    "function initialize_C_hat(n,A,W,init)\n",
    "    \"\"\"\n",
    "    Initialise le sous ensemble C_hat de cycles de taille <= K, suivant la modalité souhaitée\n",
    "    \n",
    "    Entrées : \n",
    "        - n     : Integer - Nombre de sommets dans le graphe\n",
    "        - A     : Array   - Liste des arcs du graphe\n",
    "        - W     : Array   - Matrice des poids de chaque arc\n",
    "        - init  : String  - Choix de la méthode d'initialisation\n",
    "    \n",
    "    Sorties : \n",
    "        - C_hat   : Array - Liste des cycles du sous ensemble C_hat\n",
    "        - W_hat   : Array - Liste des coûts des cycles de C_hat\n",
    "        - C_hat_v : Array - Liste des cycles passant par chaque sommet v de V\n",
    "    \"\"\"\n",
    "    if init==\"2\"\n",
    "        C_hat,W_hat,C_hat_v = initialize_2(n,A,W)\n",
    "    end \n",
    "    if init==\"all2\"\n",
    "        C_hat,W_hat,C_hat_v = initialize_all2(n,A,W)\n",
    "    end \n",
    "                \n",
    "    return C_hat,W_hat,C_hat_v\n",
    "end"
   ]
  },
  {
   "cell_type": "code",
   "execution_count": null,
   "id": "6510721d",
   "metadata": {},
   "outputs": [],
   "source": [
    "println(\"Méthodes d'initialisation importées avec succès.\")"
   ]
  }
 ],
 "metadata": {
  "kernelspec": {
   "display_name": "Julia 1.9.2",
   "language": "julia",
   "name": "julia-1.9"
  },
  "language_info": {
   "file_extension": ".jl",
   "mimetype": "application/julia",
   "name": "julia",
   "version": "1.9.4"
  }
 },
 "nbformat": 4,
 "nbformat_minor": 5
}
