{
 "cells": [
  {
   "cell_type": "markdown",
   "id": "a8ababcf",
   "metadata": {},
   "source": [
    "# Fonction de simulation de scénario"
   ]
  },
  {
   "cell_type": "code",
   "execution_count": null,
   "id": "a3f740cd",
   "metadata": {},
   "outputs": [],
   "source": [
    "function simulate_scenarios(graph, N)\n",
    "    \"\"\"\n",
    "    Fonction qui simule N scénarios de tests croisés.\n",
    "    \n",
    "    Entrées :\n",
    "        - graph : array   - Propriétés du graphe considéré\n",
    "        - N     : Integer - Nombre de scénarios à simuler\n",
    "    \n",
    "    Sorties :\n",
    "        - S   : array - Liste des scénarios simulés\n",
    "    \"\"\"\n",
    "    # Récupération des données du graphe\n",
    "    n = graph[1]\n",
    "    A = graph[2]\n",
    "    W = graph[3]\n",
    "    \n",
    "    # Initialisation du vecteur des scénarios simulés\n",
    "    S = []\n",
    "\n",
    "    # Réalisation de N scénarios\n",
    "    for k in Array(1:N)\n",
    "        # Initialisation de la matrice des poids post-tests croisés\n",
    "        ksi = zeros(n,n)\n",
    "        \n",
    "        # Simulation des réalisations des tests croisés\n",
    "        ## Pour chaque arc intéressant\n",
    "        for e in A\n",
    "            # On récupère la probabilité d'échec du test croisé\n",
    "            prob = W[e[1],e[2]]\n",
    "            # On construit une réalisation de Bernouilli\n",
    "            result = rand() < prob ? 0 : 1\n",
    "            \n",
    "            # On stocke le résultat dans la matrice des poids post-tests croisés\n",
    "            ksi[e[1], e[2]] = result\n",
    "        end\n",
    "        # Ajout du scénario dans la liste S\n",
    "        push!(S, ksi)\n",
    "    end\n",
    "    \n",
    "    return S\n",
    "end"
   ]
  },
  {
   "cell_type": "code",
   "execution_count": 1,
   "id": "67f257ff",
   "metadata": {},
   "outputs": [
    {
     "name": "stdout",
     "output_type": "stream",
     "text": [
      "Fonctions de simulation importées avec succès.\n"
     ]
    }
   ],
   "source": [
    "println(\"Fonctions de simulation importées avec succès.\")"
   ]
  }
 ],
 "metadata": {
  "kernelspec": {
   "display_name": "Julia 1.9.0",
   "language": "julia",
   "name": "julia-1.9"
  },
  "language_info": {
   "file_extension": ".jl",
   "mimetype": "application/julia",
   "name": "julia",
   "version": "1.9.0"
  }
 },
 "nbformat": 4,
 "nbformat_minor": 5
}
